{
 "cells": [
  {
   "cell_type": "markdown",
   "metadata": {},
   "source": [
    "Firstly, we need to upload the raw battery xlsx spreadsheet. Then we read it into a dataframe (b). Then plot out by clientId.\n",
    "\n",
    "Note that the grid lines on the X axis are evenly spaced 56 days apart, so it is possible to eyeball the scale differences."
   ]
  },
  {
   "cell_type": "code",
   "execution_count": null,
   "metadata": {},
   "outputs": [],
   "source": [
    "#!ls\n",
    "\n",
    "#from google.colab import files\n",
    "#uploaded = files.upload()\n"
   ]
  },
  {
   "cell_type": "code",
   "execution_count": null,
   "metadata": {},
   "outputs": [],
   "source": [
    "import pandas as pd\n",
    "import dateutil as du\n",
    "from datetime import datetime as dt\n",
    "\n",
    "b = pd.read_excel ('battery analysis.xlsx')\n",
    "b['ts']=b.iloc[:,3].apply (lambda x: dt.utcfromtimestamp (x/1000))"
   ]
  },
  {
   "cell_type": "code",
   "execution_count": null,
   "metadata": {},
   "outputs": [],
   "source": [
    "#b.iloc[:,[2, 5,6]]\n",
    "\n",
    "import matplotlib.pyplot as plt\n",
    "import matplotlib.dates as mdates\n",
    "from pandas.plotting import register_matplotlib_converters\n",
    "register_matplotlib_converters()\n",
    "\n",
    "%matplotlib inline\n",
    "\n",
    "\n",
    "#for h, d in b.groupby ('Hub Mac'):\n",
    "for h, d in b.groupby ('ClientID'):\n",
    "  #if '5d25' not in h:\n",
    "  #  continue\n",
    "  fig, ax = plt.subplots (figsize = (18,8))\n",
    "  ax.set_title (\"Hub: {}\".format (h))\n",
    "  box = ax.get_position()\n",
    "  ax.set_position([box.x0, box.y0, box.width * 0.8, box.height])\n",
    "\n",
    "  loc=mdates.DayLocator(interval=56)\n",
    "  timfmt = mdates.AutoDateFormatter(loc)\n",
    "  ax.xaxis.set_major_formatter (timfmt)\n",
    "  ax.xaxis.set_major_locator(loc)\n",
    "\n",
    "\n",
    "  for v, g in d.groupby ('Device Slot ID + Node'):\n",
    "    #ax.scatter (x=g['ts'], y=g['Battery'], alpha=0.3, label=v[0:5])\n",
    "    ax.plot_date (x=g['ts'], y=g['Battery'], alpha=0.3, label=v[0:5])\n",
    "    # Put a legend to the right of the current axis\n",
    "    ax.legend(loc='center left', bbox_to_anchor=(1, 0.5))\n",
    "#    ax.legend()\n",
    "\n",
    "  ax.xaxis.grid(True)\n",
    "\n",
    " "
   ]
  },
  {
   "cell_type": "code",
   "execution_count": null,
   "metadata": {},
   "outputs": [],
   "source": [
    "import matplotlib\n",
    "matplotlib.__version__\n"
   ]
  },
  {
   "cell_type": "code",
   "execution_count": null,
   "metadata": {},
   "outputs": [],
   "source": [
    "count = 0\n",
    "for h, v in b.groupby('Device Slot ID + Node'):\n",
    "    print (min ())\n",
    "    count += 1\n",
    "    print (h)\n",
    "    \n",
    "print (count)"
   ]
  },
  {
   "cell_type": "code",
   "execution_count": null,
   "metadata": {},
   "outputs": [],
   "source": []
  }
 ],
 "metadata": {
  "language_info": {
   "name": "python",
   "pygments_lexer": "ipython3"
  }
 },
 "nbformat": 4,
 "nbformat_minor": 1
}
