{
 "cells": [
  {
   "cell_type": "markdown",
   "metadata": {},
   "source": [
    "Firstly, we need to upload the raw battery xlsx spreadsheet. Then we read it into a dataframe (b). Then plot out by hubid."
   ]
  },
  {
   "cell_type": "code",
   "execution_count": null,
   "metadata": {},
   "outputs": [],
   "source": [
    "#!ls\n",
    "#!pwd\n",
    "try:\n",
    "    from google.colab import files\n",
    "    uploaded = files.upload()\n",
    "except:\n",
    "    pass # failed to load module on laptop"
   ]
  },
  {
   "cell_type": "code",
   "execution_count": null,
   "metadata": {},
   "outputs": [],
   "source": [
    "import pandas as pd\n",
    "import dateutil.parser as du\n",
    "from datetime import datetime as dt\n",
    "from pandas.plotting import register_matplotlib_converters\n",
    "\n",
    "register_matplotlib_converters()\n",
    "\n",
    "try:\n",
    "    full_set = pd.read_excel ('battery analysis.xlsx')\n",
    "except FileNotFoundError as fnf:\n",
    "    print (\"cannot find excel file with battery readings:\", fnf)\n",
    "\n",
    "full_set ['ClientID'] = full_set ['ClientID'].apply (lambda x: x.strip())"
   ]
  },
  {
   "cell_type": "markdown",
   "metadata": {},
   "source": [
    "Remove data from before the last HubV2 update as the quality is unknown before then."
   ]
  },
  {
   "cell_type": "code",
   "execution_count": null,
   "metadata": {},
   "outputs": [],
   "source": [
    "valid_set= full_set[full_set ['Date Time'] > du.parse (\"2019-5-15\")]\n",
    "\n",
    "print (min (valid_set['Date Time']))\n"
   ]
  },
  {
   "cell_type": "markdown",
   "metadata": {},
   "source": [
    "Remove known bad hubs from this set of data: D, E, F and G. The hubids can be identified in the section below [Identifying Devices](#Identifying-Devices)"
   ]
  },
  {
   "cell_type": "code",
   "execution_count": null,
   "metadata": {},
   "outputs": [],
   "source": [
    "bad_hubs = ['5aa147d1bbda2e2cc46bb73e', '5a992264bbda2e2cc46b2f21', '5a992175bbda2e2cc46b2d23', '5b1e3f62c7fe056c961f0639']\n",
    "print (\"starting number of devices\", len (valid_set))\n",
    "valid_set = valid_set [~valid_set ['ClientID'].isin (bad_hubs)]\n",
    "print (\"number of devices after ignoring {} hubs: {}\".format (len (bad_hubs), len (valid_set)))"
   ]
  },
  {
   "cell_type": "markdown",
   "metadata": {},
   "source": [
    "C's hub changed at the end of July. Therefore are all of her devices before that day should be ignored.\n",
    "\n",
    "A installed on 31/7, B on 3/9. Trim these times out."
   ]
  },
  {
   "cell_type": "code",
   "execution_count": null,
   "metadata": {},
   "outputs": [],
   "source": [
    "# code to strip out the bad data from more recently installed hubs\n",
    "\n",
    "late_installs = {'5a8eef6b0446f007bd4eff0d': du.parse (\"2019-7-31\"), '5d3ea83ac7fe0554e22ae04c': du.parse (\"2019-7-31\"),\n",
    "                'undefined': du.parse (\"2019-9-3\")}\n",
    "#print (late_installs)\n",
    "\n",
    "print (\"before removing pre-install data {}\".format (len (valid_set)))\n",
    "\n",
    "#print (valid_set [valid_set ['ClientID'] == '5a8eef6b0446f007bd4eff0d'][\"Date Time\"])\n",
    "\n",
    "#print (valid_set.__class__)\n",
    "\n",
    "for k, v in late_installs.items ():\n",
    "    valid_set.drop (valid_set [(valid_set.ClientID == k) & (valid_set['Date Time'] <= v)].index, inplace=True)\n",
    "    #print (valid_set [(valid_set.ClientID == k) ])\n",
    "    \n",
    "\n",
    "print (\"after removing pre-install data {}\".format (len (valid_set)))"
   ]
  },
  {
   "cell_type": "markdown",
   "metadata": {},
   "source": [
    "Plot out the battery reporting for each device, by hub. The purpose of the plot is to highlight gross errors / inconsistencies."
   ]
  },
  {
   "cell_type": "code",
   "execution_count": null,
   "metadata": {},
   "outputs": [],
   "source": [
    "\n",
    "import matplotlib.pyplot as plt\n",
    "import matplotlib.dates as mdates\n",
    "\n",
    "%matplotlib inline\n",
    "\n",
    "# plot out the battery events into existing matplotib azes. Annoyingly, matplotlib creates differently\n",
    "# shaped sets of axes for 1 column vs >1 column.\n",
    "def plotting (axs, figs, rows, cols):\n",
    "    count=0\n",
    "    r,c = 0, 0\n",
    "    fig = 0\n",
    "    hubs = []\n",
    "    axi = axs[fig]\n",
    "#fig, ax = plt.subplots (nrows=8, ncols=4, sharex=True , figsize = (18,32))\n",
    "    #fig, ax = plt.subplots (nrows=8, ncols=4, sharex=True , figsize = (20, 12))\n",
    "\n",
    "#for h, d in valid_set.groupby ('Hub Mac'):\n",
    "    for h, d in valid_set.groupby ('ClientID'):\n",
    "  #if '5d25' not in h:\n",
    "  #  continue\n",
    "        if cols==1:  # non-orthogonal api :-(    \n",
    "            ax = axi[r]\n",
    "        else:\n",
    "            ax = axi[r,c]\n",
    "        ax.set_title (\"Hub: {}\".format (h))\n",
    "        #print (h)\n",
    "        h_str = \"{}\\n\".format (h)\n",
    "        #hubs.append (h)\n",
    "        box = ax.get_position()\n",
    "        ax.set_position([box.x0, box.y0, box.width * 0.8, box.height])\n",
    "\n",
    "        loc=mdates.DayLocator(interval=56)\n",
    "        timfmt = mdates.AutoDateFormatter(loc)\n",
    "        ax.xaxis.set_major_formatter (timfmt)\n",
    "        ax.xaxis.set_major_locator(loc)\n",
    "        ax.xaxis.set_tick_params(rotation=30)\n",
    "\n",
    "\n",
    "        for v, g in d.groupby ('Device Slot ID + Node'):\n",
    "#    ax.scatter (x=g['Date Time'], y=g['Battery'], alpha=0.3, label=v[0:5])\n",
    "            ax.plot_date (x=g['Date Time'], y=g['Battery'], alpha=0.3, label=v) #[0:8])\n",
    "            #print (v)\n",
    "            h_str += \"{}\\n\".format (v)\n",
    "# Put a legend to the right of the current axis\n",
    "            ax.legend(loc='center left', bbox_to_anchor=(1, 0.5))\n",
    "#    ax.legend()\n",
    "\n",
    "#  ax[count].xaxis.grid(True)\n",
    "        r += 1\n",
    "        if r >= rows:\n",
    "            c += 1\n",
    "            if c >= cols:\n",
    "                c = 0\n",
    "                fig += 1\n",
    "                if fig < figs:\n",
    "                    ax = axs[fig]\n",
    "            r = 0\n",
    "        hubs.append (h_str)\n",
    "    return hubs\n",
    "\n",
    "figs = 1\n",
    "# this will work with >1 column, but the shape needs to be rectangular.\n",
    "rows, cols = len (set (valid_set [\"ClientID\"])), 1\n",
    "ax=[]\n",
    "\n",
    "# create the layout of the axes for plotting\n",
    "for i in range (figs):\n",
    "    fig, axes = plt.subplots (nrows=rows, ncols=cols, sharex=True, sharey=True, figsize = (20, 35))\n",
    "    ax.append (axes)\n",
    "\n",
    "# plot the results and grab the identity of the hubs/devices from the spreadsheet\n",
    "hubs = plotting (ax, figs, rows, cols)\n",
    "\n",
    "# do not need to save these now. Previously, this was an intermediate store\n",
    "#with open ('hubs', 'w') as of:\n",
    "#    for h in hubs:\n",
    "#        of.write (\"{}\\n\".format (h))"
   ]
  },
  {
   "cell_type": "code",
   "execution_count": null,
   "metadata": {},
   "outputs": [],
   "source": [
    "min (valid_set['Date Time'])"
   ]
  },
  {
   "cell_type": "code",
   "execution_count": null,
   "metadata": {},
   "outputs": [],
   "source": [
    "ls=valid_set"
   ]
  },
  {
   "cell_type": "markdown",
   "metadata": {},
   "source": [
    "How many battery powered devices are there with the valid dataset."
   ]
  },
  {
   "cell_type": "code",
   "execution_count": null,
   "metadata": {},
   "outputs": [],
   "source": [
    "# enumerate relevant devices and count them. The list comprehension enumerates the earliest battery time for each device\n",
    "len ([(x, min (ls[ls['Device Slot ID + Node']==x]['Battery'])) for x in set (ls ['Device Slot ID + Node'])])"
   ]
  },
  {
   "cell_type": "markdown",
   "metadata": {},
   "source": [
    "How many of the devices have ever had a battery level lower than 100? Some of these have always been < 100"
   ]
  },
  {
   "cell_type": "code",
   "execution_count": null,
   "metadata": {},
   "outputs": [],
   "source": [
    "low = [(x, min (ls[ls['Device Slot ID + Node']==x]['Battery'])) for x in set (ls ['Device Slot ID + Node']) if min (ls[ls['Device Slot ID + Node']==x]['Battery']) < 100]\n",
    "print (len (low))"
   ]
  },
  {
   "cell_type": "markdown",
   "metadata": {},
   "source": [
    "# Devices that Have Reported loss of Battery Capacity\n",
    "Print out the device slot/ZWave node id, and all the readings from the devices that have ever had a battery reading < 100. This plot shows that at least one device had non-monotonic readings. We believe, but cannot prove, that it has had its battery replaced. So we will remove it later in the process."
   ]
  },
  {
   "cell_type": "code",
   "execution_count": null,
   "metadata": {},
   "outputs": [],
   "source": [
    "for did in [x[0] for x in low]:\n",
    "    print (did)\n",
    "    print (valid_set[valid_set['Device Slot ID + Node'] == did][['Battery', 'Date Time']])"
   ]
  },
  {
   "cell_type": "markdown",
   "metadata": {},
   "source": [
    "# Identifying Devices\n",
    "The following tests which hubs/devices identified in the excel spreadsheet are in the production environment and reports where there are discrepencies. The discrepencies require further investigation and either elimination from the analysis set with specific filters or the add to the information available.\n",
    "\n",
    "For each hub, the owner is identified, and the set of devices that are relevant. The devices from the spreadsheet relate to device slots which contain physical devices (possibly >1 in each slot, eg for door sensors). The code prints out the types of each device, but only includes the slot information if the underlying physical device is battery powered."
   ]
  },
  {
   "cell_type": "code",
   "execution_count": null,
   "metadata": {},
   "outputs": [],
   "source": [
    "import subprocess as sb\n",
    "import json\n",
    "\n",
    "# originally, these values were saved from above and picked up here. Now all in one program\n",
    "# hubs = open ('hubs').readlines ()\n",
    "\n",
    "\n",
    "# this procedure pulls down from pumphouse the device identifiers for devices currently connected to hubs with a\n",
    "# given hubid. The hubid comes from the spreadsheet.\n",
    "def devs_for_hub_from_live (h):\n",
    "    #for h in hubs: #[\"5a8eef6b0446f007bd4eff0d\"]: #hubs:\n",
    "    devs = []\n",
    "    h = h.strip ()\n",
    "    #print (\"hubid\", h)\n",
    "    js = sb.check_output ('curl --header \"Content-Type: application/json\" https://homeinstead.anthropos.io/PumpHouse/rest/v1/iot/users/{}/residences'.format (h), shell=True)\n",
    "    #print (\"js from curl\", js)\n",
    "    cust = json.loads (js)\n",
    "\n",
    "    print (\"\\nhub + owner\", h, cust['residence'][0]['fn'])\n",
    "    #print (cust['residence'][0]['devices'])\n",
    "    for l in cust['residence'][0]['locations']:\n",
    "        #print (l.keys())\n",
    "        for slot in l['deviceSlots']:\n",
    "            for d in slot['devices']:\n",
    "                print (\"physical\", d['uuid'], d['model'])\n",
    "                #devs.append (d['uuid'])\n",
    "            if all (('power' not in slot ['deviceType'], 'pressure' not in slot ['deviceType'])):   # ignore power meters and BCGs for battery stuff\n",
    "                print (slot['uuid'], slot ['deviceType'])\n",
    "                devs.append (slot['uuid'])\n",
    "    return cust ['residence'][0]['fn'], devs\n",
    "\n",
    "\n",
    "# minimal bit of OO ;-)\n",
    "class hub ():\n",
    "    def __init__ (self, str):\n",
    "        vals = str.split ()\n",
    "        self.id = vals [0]\n",
    "        self.devs = [x.split ('_')[0] for x in vals [1:]]\n",
    "        #print (self.devs)\n",
    "\n",
    "from_live = {}\n",
    "names = {}\n",
    "\n",
    "from_excel = {}\n",
    "for h_str in hubs:\n",
    "    h = h_str.split ()[0]\n",
    "    #print (\"hh\", h)\n",
    "    from_excel [h] = hub (h_str)\n",
    "    names [h.strip ()], from_live [h.strip()] = devs_for_hub_from_live (h.strip ())\n",
    "\n",
    "# check that the hubs on pumphouse and in the excel report are consistent\n",
    "assert from_excel.keys() == from_live.keys()\n",
    "\n",
    "print (\"\\n\\nBreakdown of devices reporting battery levels vs devices currently in production\")\n",
    "for k in from_excel.keys ():\n",
    "    print ()\n",
    "    print (names[k].strip (), k)\n",
    "    #print (from_excel [k].devs, from_live[k])\n",
    "    print (\"count of devices currently in use and that have ever been in use\", len (set (from_excel[k].devs).intersection (set (from_live[k]))))\n",
    "    print (\"historical, not current\", len (set (from_excel [k].devs).difference (set (from_live[k]))))\n",
    "    print (\"current not historical\", len (set (from_live [k]).difference (set (from_excel[k].devs))))\n",
    "\n",
    "\n"
   ]
  },
  {
   "cell_type": "markdown",
   "metadata": {},
   "source": [
    "# Next Steps\n",
    "\n",
    "1. Use the data from [#Identifying Devices](#Identifying-Devices) and [#Devices that Have Reported loss of Battery Capacity](#Devices-that-Have-Reported-loss-of-Battery-Capacity) to categorise the devices by type.\n",
    "1. Evaluate the overall failure rate per device month of use\n",
    "1. Estimate the rate of drop and the variation of per device type from battery first reporting a drop in capacity. (e.g. \"there's a roughly linear capacity drop of 10% per week for Door Sensors, with a 95% CI of 5 and 25)\n",
    "\n",
    "If it looks like too much of a challenge to code up the estimation, then I can work those through and share what the code looks like."
   ]
  }
 ],
 "metadata": {
  "language_info": {
   "name": "python",
   "pygments_lexer": "ipython3"
  }
 },
 "nbformat": 4,
 "nbformat_minor": 1
}
