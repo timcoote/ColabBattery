{
 "cells": [
  {
   "cell_type": "markdown",
   "metadata": {},
   "source": [
    "Firstly, we need to upload the raw battery xlsx spreadsheet. Then we read it into a dataframe (b). Then plot out by hubid."
   ]
  },
  {
   "cell_type": "code",
   "execution_count": null,
   "metadata": {},
   "outputs": [],
   "source": [
    "#!ls\n",
    "#!pwd\n",
    "try:\n",
    "    from google.colab import files\n",
    "    uploaded = files.upload()\n",
    "except:\n",
    "    pass # failed to load module on laptop"
   ]
  },
  {
   "cell_type": "code",
   "execution_count": null,
   "metadata": {},
   "outputs": [],
   "source": [
    "import pandas as pd\n",
    "import dateutil.parser as du\n",
    "from datetime import datetime as dt\n",
    "\n",
    "try:\n",
    "    full_set = pd.read_excel ('battery analysis.xlsx')\n",
    "except FileNotFoundError as fnf:\n",
    "    print (\"cannot find excel file with battery readings:\", fnf)\n"
   ]
  },
  {
   "cell_type": "markdown",
   "metadata": {},
   "source": [
    "Remove data from before the last HubV2 update as the quality is unknown before then."
   ]
  },
  {
   "cell_type": "code",
   "execution_count": null,
   "metadata": {},
   "outputs": [],
   "source": [
    "valid_set= full_set[full_set ['Date Time'] > du.parse (\"2019-5-15\")]\n"
   ]
  },
  {
   "cell_type": "code",
   "execution_count": null,
   "metadata": {},
   "outputs": [],
   "source": []
  },
  {
   "cell_type": "code",
   "execution_count": null,
   "metadata": {},
   "outputs": [],
   "source": [
    "\n",
    "import matplotlib.pyplot as plt\n",
    "import matplotlib.dates as mdates\n",
    "\n",
    "%matplotlib inline\n",
    "\n",
    "# plot out the battery events into existing matplotib azes. Annoyingly, matplotlib creates differently\n",
    "# shaped sets of axes for 1 column vs >1 column.\n",
    "def plotting (axs, figs, rows, cols):\n",
    "    count=0\n",
    "    r,c = 0, 0\n",
    "    fig = 0\n",
    "    hubs = []\n",
    "    axi = axs[fig]\n",
    "#fig, ax = plt.subplots (nrows=8, ncols=4, sharex=True , figsize = (18,32))\n",
    "    #fig, ax = plt.subplots (nrows=8, ncols=4, sharex=True , figsize = (20, 12))\n",
    "\n",
    "#for h, d in valid_set.groupby ('Hub Mac'):\n",
    "    for h, d in valid_set.groupby ('ClientID'):\n",
    "  #if '5d25' not in h:\n",
    "  #  continue\n",
    "        if cols==1:  # non-orthogonal api :-(    \n",
    "            ax = axi[r]\n",
    "        else:\n",
    "            ax = axi[r,c]\n",
    "        ax.set_title (\"Hub: {}\".format (h))\n",
    "        print (h)\n",
    "        hubs.append (h)\n",
    "        box = ax.get_position()\n",
    "        ax.set_position([box.x0, box.y0, box.width * 0.8, box.height])\n",
    "\n",
    "        loc=mdates.DayLocator(interval=56)\n",
    "        timfmt = mdates.AutoDateFormatter(loc)\n",
    "        ax.xaxis.set_major_formatter (timfmt)\n",
    "        ax.xaxis.set_major_locator(loc)\n",
    "        ax.xaxis.set_tick_params(rotation=30)\n",
    "\n",
    "\n",
    "        for v, g in d.groupby ('Device Slot ID + Node'):\n",
    "#    ax.scatter (x=g['Date Time'], y=g['Battery'], alpha=0.3, label=v[0:5])\n",
    "            ax.plot_date (x=g['Date Time'], y=g['Battery'], alpha=0.3, label=v) #[0:8])\n",
    "    # Put a legend to the right of the current axis\n",
    "            print (v)\n",
    "            ax.legend(loc='center left', bbox_to_anchor=(1, 0.5))\n",
    "#    ax.legend()\n",
    "\n",
    "#  ax[count].xaxis.grid(True)\n",
    "        r += 1\n",
    "        if r >= rows:\n",
    "            c += 1\n",
    "            if c >= cols:\n",
    "                c = 0\n",
    "                fig += 1\n",
    "                if fig < figs:\n",
    "                    ax = axs[fig]\n",
    "            r = 0\n",
    "    return hubs\n",
    "\n",
    "figs = 1\n",
    "rows, cols = 11, 1\n",
    "ax=[]\n",
    "\n",
    "# create the layout of the axes for plotting\n",
    "for i in range (figs):\n",
    "    fig, axes = plt.subplots (nrows=rows, ncols=cols, sharex=True, sharey=True, figsize = (20, 35))\n",
    "    ax.append (axes)\n",
    "\n",
    "hubs = plotting (ax, figs, rows, cols)\n",
    "with open ('hubs', 'w') as of:\n",
    "    for h in hubs:\n",
    "        of.write (\"{}\\n\".format (h))"
   ]
  },
  {
   "cell_type": "code",
   "execution_count": null,
   "metadata": {},
   "outputs": [],
   "source": [
    "len ([x[1][1] for x in valid_set.iterrows () if '5b61' in x[1][1]])"
   ]
  },
  {
   "cell_type": "code",
   "execution_count": null,
   "metadata": {},
   "outputs": [],
   "source": [
    "len ([x[1][1] for x in valid_set.iterrows () if '5b61' not in x[1][1]])"
   ]
  },
  {
   "cell_type": "code",
   "execution_count": null,
   "metadata": {},
   "outputs": [],
   "source": [
    "[(x[1][1], x[1][0]) for x in valid_set.iterrows () if '5b61' in x[1][1]]"
   ]
  },
  {
   "cell_type": "code",
   "execution_count": null,
   "metadata": {},
   "outputs": [],
   "source": [
    "valid_set.columns"
   ]
  },
  {
   "cell_type": "code",
   "execution_count": null,
   "metadata": {},
   "outputs": [],
   "source": [
    "len (b[b['Date Time'] > du.parse (\"2019-5-15\")] )"
   ]
  },
  {
   "cell_type": "code",
   "execution_count": null,
   "metadata": {},
   "outputs": [],
   "source": [
    "min (b['Date Time'])"
   ]
  },
  {
   "cell_type": "code",
   "execution_count": null,
   "metadata": {},
   "outputs": [],
   "source": [
    "print (hubs)"
   ]
  },
  {
   "cell_type": "code",
   "execution_count": null,
   "metadata": {},
   "outputs": [],
   "source": [
    "ls=b[b['ClientID'] == ' 5d3ea83ac7fe0554e22ae04c']"
   ]
  },
  {
   "cell_type": "code",
   "execution_count": null,
   "metadata": {},
   "outputs": [],
   "source": [
    "set (ls['Device Slot ID + Node'])"
   ]
  },
  {
   "cell_type": "code",
   "execution_count": null,
   "metadata": {},
   "outputs": [],
   "source": [
    "ls=valid_set"
   ]
  },
  {
   "cell_type": "code",
   "execution_count": null,
   "metadata": {},
   "outputs": [],
   "source": [
    "len ([(x, min (ls[ls['Device Slot ID + Node']==x]['Battery'])) for x in set (ls ['Device Slot ID + Node'])])"
   ]
  },
  {
   "cell_type": "code",
   "execution_count": null,
   "metadata": {},
   "outputs": [],
   "source": [
    "low = [(x, min (ls[ls['Device Slot ID + Node']==x]['Battery'])) for x in set (ls ['Device Slot ID + Node']) if min (ls[ls['Device Slot ID + Node']==x]['Battery']) < 100]"
   ]
  },
  {
   "cell_type": "code",
   "execution_count": null,
   "metadata": {},
   "outputs": [],
   "source": [
    "len (low)"
   ]
  },
  {
   "cell_type": "code",
   "execution_count": null,
   "metadata": {},
   "outputs": [],
   "source": [
    "for did in [x[0] for x in low]:\n",
    "    print (did)\n",
    "    print (valid_set[valid_set['Device Slot ID + Node'] == did][['Battery', 'Date Time']])"
   ]
  },
  {
   "cell_type": "markdown",
   "metadata": {},
   "source": [
    "C's hub changed at the end of July. Therefore are all of her devices before that day should be ignored.\n",
    "\n",
    "A on 31/7, 3/9 B."
   ]
  },
  {
   "cell_type": "code",
   "execution_count": null,
   "metadata": {},
   "outputs": [],
   "source": [
    "!python3 devs.py 2> /dev/null"
   ]
  }
 ],
 "metadata": {
  "language_info": {
   "name": "python",
   "pygments_lexer": "ipython3"
  }
 },
 "nbformat": 4,
 "nbformat_minor": 1
}
