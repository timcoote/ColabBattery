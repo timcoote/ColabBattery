{
 "nbformat": 4,
 "nbformat_minor": 0,
 "metadata": {
  "language_info": {
   "name": "python",
   "pygments_lexer": "ipython3"
  }
 },
 "cells": [
  {
   "cell_type": "markdown",
   "metadata": {},
   "source": [
    "Firstly, we need to upload the raw battery xlsx spreadsheet. Then we read it into a dataframe (b). Then plot out by hubid."
   ]
  },
  {
   "cell_type": "code",
   "metadata": {},
   "source": [
    "!ls\n",
    "\n",
    "try:\n",
    "    from google.colab import files\n",
    "    uploaded = files.upload()\n",
    "except:\n",
    "    pass # failed to load module on laptop"
   ],
   "execution_count": null,
   "outputs": []
  },
  {
   "cell_type": "code",
   "metadata": {},
   "source": [
    "import pandas as pd\n",
    "import dateutil.parser as du\n",
    "from datetime import datetime as dt\n",
    "\n",
    "full_set = pd.read_excel ('battery analysis.xlsx')\n"
   ],
   "execution_count": null,
   "outputs": []
  },
  {
   "cell_type": "markdown",
   "metadata": {},
   "source": [
    "Remove data from before the last HubV2 update as the quality is unknown before then."
   ]
  },
  {
   "cell_type": "code",
   "metadata": {},
   "source": [
    "b= full_set[full_set ['Date Time'] > du.parse (\"2019-5-15\")]\n",
    "#b['ts']=b.iloc[:,3].apply (lambda x: dt.utcfromtimestamp (x/1000)) # irrelevant as 'Date Time' == 'Epoch TS'\n",
    "b['ts'] = b.loc [:, 'Date Time']"
   ],
   "execution_count": null,
   "outputs": []
  },
  {
   "cell_type": "code",
   "metadata": {},
   "source": [
    "#b.iloc[:,[2, 5,6]]\n",
    "\n",
    "import matplotlib.pyplot as plt\n",
    "import matplotlib.dates as mdates\n",
    "\n",
    "%matplotlib inline\n",
    "\n",
    "def plotting (axs, figs, rows, cols):\n",
    "    count=0\n",
    "    r,c = 0, 0\n",
    "    fig = 0\n",
    "    axi = axs[fig]\n",
    "#fig, ax = plt.subplots (nrows=8, ncols=4, sharex=True , figsize = (18,32))\n",
    "    #fig, ax = plt.subplots (nrows=8, ncols=4, sharex=True , figsize = (20, 12))\n",
    "\n",
    "#for h, d in b.groupby ('Hub Mac'):\n",
    "    for h, d in b.groupby ('ClientID'):\n",
    "  #if '5d25' not in h:\n",
    "  #  continue\n",
    "        if cols==1:  # non-orthogonal api :-(    \n",
    "            ax = axi[r]\n",
    "        else:\n",
    "            ax = axi[r,c]\n",
    "        ax.set_title (\"Hub: {}\".format (h))\n",
    "        box = ax.get_position()\n",
    "        ax.set_position([box.x0, box.y0, box.width * 0.8, box.height])\n",
    "\n",
    "        loc=mdates.DayLocator(interval=56)\n",
    "        timfmt = mdates.AutoDateFormatter(loc)\n",
    "        ax.xaxis.set_major_formatter (timfmt)\n",
    "        ax.xaxis.set_major_locator(loc)\n",
    "        ax.xaxis.set_tick_params(rotation=30)\n",
    "\n",
    "\n",
    "        for v, g in d.groupby ('Device Slot ID + Node'):\n",
    "#    ax.scatter (x=g['ts'], y=g['Battery'], alpha=0.3, label=v[0:5])\n",
    "            ax.plot_date (x=g['ts'], y=g['Battery'], alpha=0.3, label=v[0:6])\n",
    "    # Put a legend to the right of the current axis\n",
    "            ax.legend(loc='center left', bbox_to_anchor=(1, 0.5))\n",
    "#    ax.legend()\n",
    "\n",
    "#  ax[count].xaxis.grid(True)\n",
    "        r += 1\n",
    "        if r >= rows:\n",
    "            c += 1\n",
    "            if c >= cols:\n",
    "                c = 0\n",
    "                fig += 1\n",
    "                if fig < figs:\n",
    "                    ax = axs[fig]\n",
    "            r = 0\n",
    "\n",
    "figs = 1\n",
    "rows, cols = 11, 1\n",
    "ax=[]\n",
    "for i in range (figs):\n",
    "    fig, axes = plt.subplots (nrows=rows, ncols=cols, sharex=True, sharey=True, figsize = (20, 35))\n",
    "    ax.append (axes)\n",
    "\n",
    "plotting (ax, figs, rows, cols)\n",
    " "
   ],
   "execution_count": null,
   "outputs": []
  },
  {
   "cell_type": "code",
   "metadata": {},
   "source": [
    "len ([x[1][1] for x in b.iterrows () if '5b61' in x[1][1]])"
   ],
   "execution_count": null,
   "outputs": []
  },
  {
   "cell_type": "code",
   "metadata": {},
   "source": [
    "len ([x[1][1] for x in b.iterrows () if '5b61' not in x[1][1]])"
   ],
   "execution_count": null,
   "outputs": []
  },
  {
   "cell_type": "code",
   "metadata": {},
   "source": [
    "[(x[1][1], x[1][0]) for x in b.iterrows () if '5b61' in x[1][1]]"
   ],
   "execution_count": null,
   "outputs": []
  },
  {
   "cell_type": "code",
   "metadata": {},
   "source": [
    "b.columns"
   ],
   "execution_count": null,
   "outputs": []
  },
  {
   "cell_type": "code",
   "metadata": {},
   "source": [
    "len (b[b['Date Time'] > du.parse (\"2019-5-15\")] )"
   ],
   "execution_count": null,
   "outputs": []
  },
  {
   "cell_type": "code",
   "metadata": {},
   "source": [
    "min (b['ts'])"
   ],
   "execution_count": null,
   "outputs": []
  }
 ]
}
